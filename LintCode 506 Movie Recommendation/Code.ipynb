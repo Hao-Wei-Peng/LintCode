{
  "nbformat": 4,
  "nbformat_minor": 0,
  "metadata": {
    "colab": {
      "provenance": [],
      "collapsed_sections": []
    },
    "kernelspec": {
      "name": "python3",
      "display_name": "Python 3"
    },
    "language_info": {
      "name": "python"
    }
  },
  "cells": [
    {
      "cell_type": "code",
      "execution_count": null,
      "metadata": {
        "id": "mMOA-ZhSJFOB",
        "colab": {
          "base_uri": "https://localhost:8080/"
        },
        "outputId": "8e6b5ada-b783-4a92-ab64-13c5cb4b234e"
      },
      "outputs": [
        {
          "output_type": "stream",
          "name": "stdout",
          "text": [
            "[3, 4, 2, 1]\n"
          ]
        }
      ],
      "source": [
        "from typing import (\n",
        "    List,\n",
        ")\n",
        "\n",
        "class Solution:\n",
        "    \"\"\"\n",
        "    @param graph: \n",
        "    @return: \n",
        "    \"\"\"\n",
        "    def min_malware_spread(self, graph: List[List[int]]) -> List[List[int]]:\n",
        "        \n",
        "        # input: User\n",
        "        # output: recommendation\n",
        "        # frequency: important, recommend 5 highest frequency movies\n",
        "        UserRecommend = []\n",
        "        \n",
        "        for user_id, movielist in enumerate(graph):\n",
        "            Freq = collections.Counter()\n",
        "            LenG = len(graph)\n",
        "\n",
        "            for idx in range(0, LenG):\n",
        "\n",
        "                if idx == user_id:\n",
        "                    continue\n",
        "                \n",
        "                for movie in movielist:\n",
        "                    # check 1, 2 whether exist in [1, 3, 5]\n",
        "                    if movie in graph[idx]:\n",
        "\n",
        "                        for recommend in graph[idx]:\n",
        "                            if recommend not in movielist:\n",
        "                                Freq[recommend] += 1\n",
        "            \n",
        "            CurUserRecommend = []\n",
        "\n",
        "            # sorted frequency of the Freq Counter structure\n",
        "            for r in sorted(Freq.items(), key = lambda x: (-x[1], x[0])):\n",
        "                CurUserRecommend.append(r[0])\n",
        "            \n",
        "            UserRecommend.append(CurUserRecommend[0 : 5])\n",
        "\n",
        "        return UserRecommend\n",
        "            "
      ]
    }
  ]
}