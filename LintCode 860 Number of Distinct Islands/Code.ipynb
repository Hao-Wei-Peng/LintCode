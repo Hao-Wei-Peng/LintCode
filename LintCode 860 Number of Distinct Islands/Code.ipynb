{
  "nbformat": 4,
  "nbformat_minor": 0,
  "metadata": {
    "colab": {
      "provenance": [],
      "collapsed_sections": []
    },
    "kernelspec": {
      "name": "python3",
      "display_name": "Python 3"
    },
    "language_info": {
      "name": "python"
    }
  },
  "cells": [
    {
      "cell_type": "code",
      "execution_count": null,
      "metadata": {
        "id": "mMOA-ZhSJFOB"
      },
      "outputs": [],
      "source": [
        "from typing import (\n",
        "    List,\n",
        ")\n",
        "\n",
        "class Solution:\n",
        "    \"\"\"\n",
        "    @param grid: a list of lists of integers\n",
        "    @return: return an integer, denote the number of distinct islands\n",
        "    \"\"\"\n",
        "    def numberof_distinct_islands(self, grid: List[List[int]]) -> int:\n",
        "        # write your code here\n",
        "\n",
        "        # island: connected 4-directionally, value group 1's\n",
        "        # Time Complexity will be O(n*n)\n",
        "        # Space Complexity will be O(n*n)\n",
        "\n",
        "        Rows, Cols = len(grid), len(grid[0])\n",
        "        shapes = set()\n",
        "        DistinctIsLand = 0\n",
        "\n",
        "        for r in range(0, Rows):\n",
        "            for c in range(0, Cols):\n",
        "                if grid[r][c] == 1:\n",
        "\n",
        "                    grid[r][c] = 0\n",
        "                    shape = self.BFS(grid, r, c)\n",
        "                    \n",
        "                    if shape in shapes:\n",
        "                        continue\n",
        "\n",
        "                    shapes.add(shape)\n",
        "                    DistinctIsLand = DistinctIsLand + 1\n",
        "        \n",
        "        return DistinctIsLand\n",
        "    \n",
        "\n",
        "    def BFS(self, grid, r, c):\n",
        "        queue = collections.deque([(r, c)])\n",
        "        directions = [(1, 0), (0, -1), (-1, 0), (0, 1)]\n",
        "\n",
        "        Rows, Cols = len(grid), len(grid[0])\n",
        "        Path = \"\"\n",
        "\n",
        "        while queue:\n",
        "\n",
        "            pre_r, pre_c = queue.popleft()\n",
        "            # update current island shape\n",
        "            Path = Path + str(pre_r - r) + str(pre_c - c)\n",
        "\n",
        "            for x, y in directions:\n",
        "                cur_r = pre_r + x\n",
        "                cur_c = pre_c + y\n",
        "\n",
        "                if 0 <= cur_r < Rows and 0 <= cur_c < Cols and grid[cur_r][cur_c] == 1:\n",
        "                    grid[cur_r][cur_c] = 0\n",
        "                    queue.append((cur_r, cur_c))\n",
        "        \n",
        "        return Path\n"
      ]
    }
  ]
}