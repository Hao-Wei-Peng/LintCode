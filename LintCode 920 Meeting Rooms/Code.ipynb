{
  "nbformat": 4,
  "nbformat_minor": 0,
  "metadata": {
    "colab": {
      "provenance": [],
      "collapsed_sections": []
    },
    "kernelspec": {
      "name": "python3",
      "display_name": "Python 3"
    },
    "language_info": {
      "name": "python"
    }
  },
  "cells": [
    {
      "cell_type": "code",
      "execution_count": null,
      "metadata": {
        "id": "mMOA-ZhSJFOB"
      },
      "outputs": [],
      "source": [
        "from typing import (\n",
        "    List,\n",
        ")\n",
        "from lintcode import (\n",
        "    Interval,\n",
        ")\n",
        "\n",
        "\"\"\"\n",
        "Definition of Interval:\n",
        "class Interval(object):\n",
        "    def __init__(self, start, end):\n",
        "        self.start = start\n",
        "        self.end = end\n",
        "\"\"\"\n",
        "\n",
        "class Solution:\n",
        "    \"\"\"\n",
        "    @param intervals: an array of meeting time intervals\n",
        "    @return: if a person could attend all meetings\n",
        "    \"\"\"\n",
        "    def can_attend_meetings(self, intervals: List[Interval]) -> bool:\n",
        "        \n",
        "        # Write your code here\n",
        "        start = sorted([m.start for m in intervals])\n",
        "        end = sorted([e.end for e in intervals])\n",
        "\n",
        "        n = len(intervals)\n",
        "        meet = 0\n",
        "        s, e = 0, 0\n",
        "\n",
        "        while s < n:\n",
        "            if start[s] < end[e]:\n",
        "                meet = meet + 1\n",
        "                s = s + 1\n",
        "                \n",
        "                if meet > 1:\n",
        "                    return False\n",
        "            \n",
        "            else:\n",
        "                s = s + 1\n",
        "                e = e + 1\n",
        "        \n",
        "        return True\n",
        "        "
      ]
    }
  ]
}