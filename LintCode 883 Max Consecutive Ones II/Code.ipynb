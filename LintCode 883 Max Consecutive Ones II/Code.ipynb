{
  "nbformat": 4,
  "nbformat_minor": 0,
  "metadata": {
    "colab": {
      "name": "Code.ipynb",
      "provenance": [],
      "collapsed_sections": []
    },
    "kernelspec": {
      "name": "python3",
      "display_name": "Python 3"
    },
    "language_info": {
      "name": "python"
    }
  },
  "cells": [
    {
      "cell_type": "code",
      "execution_count": null,
      "metadata": {
        "id": "hFD3gFKqbvee"
      },
      "outputs": [],
      "source": [
        "from typing import (\n",
        "    List,\n",
        ")\n",
        "\n",
        "class Solution:\n",
        "    \"\"\"\n",
        "    @param nums: a list of integer\n",
        "    @return: return a integer, denote  the maximum number of consecutive 1s\n",
        "    \"\"\"\n",
        "    def find_max_consecutive_ones(self, nums: List[int]) -> int:\n",
        "        # write your code here\n",
        "\n",
        "        n = len(nums)\n",
        "\n",
        "        left, right = 0, 0\n",
        "        max_len = float(\"-inf\")\n",
        "        zeros = 0\n",
        "\n",
        "        # Time Complexity will be O(n)\n",
        "        # Space Complexity will be O(1)\n",
        "        while right < n:\n",
        "            cur_num = nums[right]\n",
        "\n",
        "            if cur_num == 0:\n",
        "                zeros = zeros + 1\n",
        "\n",
        "            # condition: todo\n",
        "            while zeros > 1:\n",
        "                \n",
        "                pre_num = nums[left]\n",
        "\n",
        "                if pre_num == 0:\n",
        "                    zeros = zeros - 1\n",
        "\n",
        "                left = left + 1\n",
        "\n",
        "            max_len = max(max_len, right - left + 1)\n",
        "            right = right + 1\n",
        "        \n",
        "        return max_len\n"
      ]
    }
  ]
}