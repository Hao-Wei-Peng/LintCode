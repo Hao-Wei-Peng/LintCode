{
  "nbformat": 4,
  "nbformat_minor": 0,
  "metadata": {
    "colab": {
      "name": "Code.ipynb",
      "provenance": [],
      "collapsed_sections": []
    },
    "kernelspec": {
      "name": "python3",
      "display_name": "Python 3"
    },
    "language_info": {
      "name": "python"
    }
  },
  "cells": [
    {
      "cell_type": "code",
      "execution_count": null,
      "metadata": {
        "id": "hFD3gFKqbvee"
      },
      "outputs": [],
      "source": [
        "class Solution:\n",
        "    \"\"\"\n",
        "    @param str: a string\n",
        "    @return: return a string\n",
        "    \"\"\"\n",
        "    def reverse_words(self, str: str) -> str:\n",
        "        # Time Complexity will be O(n)\n",
        "        # Space Complexity will be O(1)\n",
        "        list_s = list(str)\n",
        "        self.reverse_string(list_s, 0, len(list_s) - 1)\n",
        "        self.reverse_each_word(list_s)\n",
        "\n",
        "        return \"\".join(list_s)\n",
        "\n",
        "\n",
        "    # reverse whole string \n",
        "    def reverse_string(self, nums, left, right):\n",
        "        \n",
        "        while left <= right:\n",
        "            nums[left], nums[right] = nums[right], nums[left]\n",
        "            left = left + 1\n",
        "            right = right - 1\n",
        "        \n",
        "        return None\n",
        "    \n",
        "    # reverse each word\n",
        "    def reverse_each_word(self, word_list):\n",
        "        start = 0\n",
        "        end = 0\n",
        "        n = len(word_list) \n",
        "\n",
        "        while start < n:\n",
        "            while end < n and word_list[end] != \" \":\n",
        "                end = end + 1\n",
        "            \n",
        "            self.reverse_string(word_list, start, end - 1)\n",
        "            start = end + 1\n",
        "            end = start\n",
        "\n",
        "        return None\n"
      ]
    }
  ]
}