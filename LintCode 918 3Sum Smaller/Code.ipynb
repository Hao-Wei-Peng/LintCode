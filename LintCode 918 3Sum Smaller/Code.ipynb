{
  "nbformat": 4,
  "nbformat_minor": 0,
  "metadata": {
    "colab": {
      "name": "Code.ipynb",
      "provenance": [],
      "collapsed_sections": []
    },
    "kernelspec": {
      "name": "python3",
      "display_name": "Python 3"
    },
    "language_info": {
      "name": "python"
    }
  },
  "cells": [
    {
      "cell_type": "code",
      "execution_count": null,
      "metadata": {
        "id": "hFD3gFKqbvee"
      },
      "outputs": [],
      "source": [
        "from typing import (\n",
        "    List,\n",
        ")\n",
        "\n",
        "class Solution:\n",
        "    \"\"\"\n",
        "    @param nums:  an array of n integers\n",
        "    @param target: a target\n",
        "    @return: the number of index triplets satisfy the condition nums[i] + nums[j] + nums[k] < target\n",
        "    \"\"\"\n",
        "    def three_sum_smaller(self, nums: List[int], target: int) -> int:\n",
        "        \n",
        "        # Time Complexity will be O(nlogn)\n",
        "        nums = sorted(nums)\n",
        "        n = len(nums)\n",
        "        ans = 0\n",
        "\n",
        "        # Time Complexity will be O(n^2)\n",
        "        # Space Complexity will be O(1)\n",
        "        for k in range(0, n):\n",
        "            \n",
        "            # in this problem, we need to consider duplicate results\n",
        "            # we do not need to do step k > 0 and nums[k] == nums[k - 1]\n",
        "            # continue\n",
        "            left = k + 1\n",
        "            right = n - 1\n",
        "\n",
        "            while left < right:\n",
        "                total = nums[k] + nums[left] + nums[right]\n",
        "\n",
        "                if total >= target:\n",
        "                    right = right - 1\n",
        "\n",
        "                else:\n",
        "                    ans = ans + (right - left)\n",
        "                    left = left + 1\n",
        "\n",
        "        return ans"
      ]
    }
  ]
}