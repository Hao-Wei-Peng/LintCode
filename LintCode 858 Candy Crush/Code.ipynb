{
  "nbformat": 4,
  "nbformat_minor": 0,
  "metadata": {
    "colab": {
      "provenance": [],
      "collapsed_sections": []
    },
    "kernelspec": {
      "name": "python3",
      "display_name": "Python 3"
    },
    "language_info": {
      "name": "python"
    }
  },
  "cells": [
    {
      "cell_type": "code",
      "execution_count": 3,
      "metadata": {
        "id": "mMOA-ZhSJFOB"
      },
      "outputs": [],
      "source": [
        "from typing import (\n",
        "    List,\n",
        ")\n",
        "\n",
        "class Solution:\n",
        "    \"\"\"\n",
        "    @param board: a 2D integer array\n",
        "    @return: the current board\n",
        "    \"\"\"\n",
        "    def candy_crush(self, board: List[List[int]]) -> List[List[int]]:\n",
        "        \n",
        "        # rules:\n",
        "        # board[i][j] == 0, empty position\n",
        "        # 1. if three or more candies (same type) adjacent vertical or horizontal (crush)\n",
        "        # 2. candies will drop until hit a candy or bottom at the same time \n",
        "        # 3. dropping step, we need to do crush step again\n",
        "        # 4. if no any candies can be crushed, return current board\n",
        "        Rows, Cols = len(board), len(board[0])\n",
        "        todo = False\n",
        "\n",
        "       #  1\n",
        "       #  1\n",
        "       # [1] 1 1\n",
        "\n",
        "        # ensure overlap position, therefore, we can use absolute method to mark the values\n",
        "        # mark row (eliminate)\n",
        "        for r in range(0, Rows - 2):\n",
        "            for c in range(0, Cols):\n",
        "                if abs(board[r][c]) == abs(board[r + 1][c]) == abs(board[r + 2][c]) != 0:\n",
        "                    board[r][c] = board[r + 1][c] = board[r + 2][c] = -abs(board[r][c])\n",
        "                    todo = True\n",
        "\n",
        "        # mark col (eliminate)\n",
        "        for r in range(0, Rows):\n",
        "            for c in range(0, Cols - 2):\n",
        "                if abs(board[r][c]) == abs(board[r][c + 1]) == abs(board[r][c + 2]) != 0:\n",
        "                    board[r][c] = board[r][c + 1] = board[r][c + 2] = -abs(board[r][c])\n",
        "                    todo = True\n",
        "        \n",
        "        \n",
        "        for c in range(0, Cols):\n",
        "            Bottom = Rows - 1\n",
        "\n",
        "            # update each row\n",
        "            for r in range(Rows - 1, -1, -1):\n",
        "                if board[r][c] > 0:\n",
        "                    board[Bottom][c] = board[r][c]\n",
        "                    Bottom -= 1\n",
        "            \n",
        "            # fill zero\n",
        "            for bottom in range(Bottom, -1, -1):\n",
        "                board[bottom][c] = 0\n",
        "\n",
        "\n",
        "        return self.candy_crush(board) if todo else board            \n"
      ]
    }
  ]
}