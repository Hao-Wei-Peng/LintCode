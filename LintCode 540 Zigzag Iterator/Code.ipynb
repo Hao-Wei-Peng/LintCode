{
  "nbformat": 4,
  "nbformat_minor": 0,
  "metadata": {
    "colab": {
      "provenance": [],
      "collapsed_sections": []
    },
    "kernelspec": {
      "name": "python3",
      "display_name": "Python 3"
    },
    "language_info": {
      "name": "python"
    }
  },
  "cells": [
    {
      "cell_type": "code",
      "execution_count": null,
      "metadata": {
        "id": "mMOA-ZhSJFOB"
      },
      "outputs": [],
      "source": [
        "class ZigzagIterator:\n",
        "    \"\"\"\n",
        "    @param: v1: A 1d vector\n",
        "    @param: v2: A 1d vector\n",
        "    \"\"\"\n",
        "    def __init__(self, v1, v2):\n",
        "        # do intialization if necessary\n",
        "        self.Queues = [collections.deque(v1), collections.deque(v2)]\n",
        "        self.old, self.new = 1, 1\n",
        "\n",
        "    \"\"\"\n",
        "    @return: An integer\n",
        "    \"\"\"\n",
        "    def _next(self):\n",
        "        # write your code here\n",
        "        if self.Queues[0] and self.Queues[1]:\n",
        "            self.old, self.new = self.new, 1 - self.new\n",
        "            return self.Queues[self.new].popleft()\n",
        "\n",
        "        if not self.Queues[0]:\n",
        "            return self.Queues[1].popleft()\n",
        "        \n",
        "        if not self.Queues[1]:\n",
        "            return self.Queues[0].popleft()\n",
        "\n",
        "    \"\"\"\n",
        "    @return: True if has next\n",
        "    \"\"\"\n",
        "    def hasNext(self):\n",
        "        # write your code here\n",
        "\n",
        "        # if both queues are empty, return False\n",
        "        if not self.Queues[0] and not self.Queues[1]:\n",
        "            return False\n",
        "        \n",
        "        return True\n",
        "\n",
        "# Your ZigzagIterator object will be instantiated and called as such:\n",
        "# solution, result = ZigzagIterator(v1, v2), []\n",
        "# while solution.hasNext(): result.append(solution.next())\n",
        "# Output result"
      ]
    }
  ]
}