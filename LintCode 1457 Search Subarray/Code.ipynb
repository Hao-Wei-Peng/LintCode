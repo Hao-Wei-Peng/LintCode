{
  "nbformat": 4,
  "nbformat_minor": 0,
  "metadata": {
    "colab": {
      "provenance": [],
      "collapsed_sections": []
    },
    "kernelspec": {
      "name": "python3",
      "display_name": "Python 3"
    },
    "language_info": {
      "name": "python"
    }
  },
  "cells": [
    {
      "cell_type": "code",
      "execution_count": null,
      "metadata": {
        "id": "mMOA-ZhSJFOB"
      },
      "outputs": [],
      "source": [
        "from typing import (\n",
        "    List,\n",
        ")\n",
        "\n",
        "class Solution:\n",
        "    \"\"\"\n",
        "    @param arr: The array \n",
        "    @param k: the sum \n",
        "    @return: The length of the array\n",
        "    \"\"\"\n",
        "    def search_subarray(self, arr: List[int], k: int) -> int:\n",
        "        # Write your code here\n",
        "\n",
        "        # we can use prefix to deal with this problem\n",
        "        # we can compute total sum at the current index\n",
        "        n = len(arr)\n",
        "        index_map = collections.defaultdict(int)\n",
        "        index_map[0] = -1\n",
        "        prefixSums = 0\n",
        "\n",
        "        # Time Complexity will be O(n)\n",
        "        # Space Complexity will be O(n)\n",
        "        for idx in range(0, n):\n",
        "            prefixSums = prefixSums + arr[idx]\n",
        "\n",
        "            if prefixSums - k in index_map:\n",
        "                return idx - index_map[prefixSums - k]\n",
        "            \n",
        "            # {(0, -1), (1, 0), (3, 1), (6, 2)}\n",
        "\n",
        "            if prefixSums not in index_map:\n",
        "                index_map[prefixSums] = idx\n",
        "\n",
        "        return -1\n"
      ]
    }
  ]
}