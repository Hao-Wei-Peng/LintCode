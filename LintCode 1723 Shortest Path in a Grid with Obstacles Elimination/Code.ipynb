{
  "nbformat": 4,
  "nbformat_minor": 0,
  "metadata": {
    "colab": {
      "provenance": [],
      "collapsed_sections": []
    },
    "kernelspec": {
      "name": "python3",
      "display_name": "Python 3"
    },
    "language_info": {
      "name": "python"
    }
  },
  "cells": [
    {
      "cell_type": "code",
      "execution_count": null,
      "metadata": {
        "id": "mMOA-ZhSJFOB"
      },
      "outputs": [],
      "source": [
        "from typing import (\n",
        "    List,\n",
        ")\n",
        "\n",
        "class Solution:\n",
        "    \"\"\"\n",
        "    @param grid: a list of list\n",
        "    @param k: an integer\n",
        "    @return: Return the minimum number of steps to walk\n",
        "    \"\"\"\n",
        "    def shortest_path(self, grid: List[List[int]], k: int) -> int:\n",
        "        # write your code here\n",
        "        # base case\n",
        "        if not grid:\n",
        "            return -1\n",
        "        \n",
        "        Rows, Cols = len(grid), len(grid[0])\n",
        "\n",
        "        # no path\n",
        "        if Rows == 1 and Cols == 1:\n",
        "            return 0\n",
        "\n",
        "        # Goal: start from (0, 0) to (m - 1, n - 1)\n",
        "        # we can remove k obstacles, if it is not possible to find such walk, return -1\n",
        "\n",
        "        # upper left corner -> lower right corner\n",
        "        queue = collections.deque([(0, 0, k, 1)])\n",
        "        directions = [(0, 1), (0, -1), (1, 0), (-1, 0)]\n",
        "        # check whether we have visited this position\n",
        "        visited = set((0, 0, k))\n",
        "\n",
        "        MiniPath = self.BFS(queue, grid, directions, visited)\n",
        "        return MiniPath\n",
        "\n",
        "    \n",
        "    def BFS(self, queue, grid, directions, visited):\n",
        "\n",
        "        Rows, Cols = len(grid), len(grid[0])\n",
        "\n",
        "        while queue:\n",
        "            \n",
        "            cur_x, cur_y, k, path = queue.popleft()\n",
        "\n",
        "            for x, y in directions:\n",
        "                nxt_x = cur_x + x\n",
        "                nxt_y = cur_y + y\n",
        "\n",
        "                if 0 <= nxt_x < Rows and 0 <= nxt_y < Cols:\n",
        "                    if grid[nxt_x][nxt_y] == 0 and (nxt_x, nxt_y, k) not in visited: \n",
        "\n",
        "                        if [nxt_x, nxt_y] == [Rows - 1, Cols - 1]:\n",
        "                            return path\n",
        "                        \n",
        "                        visited.add((nxt_x, nxt_y, k))\n",
        "                        queue.append((nxt_x, nxt_y, k, path + 1))\n",
        "                    \n",
        "                    elif grid[nxt_x][nxt_y] == 1 and k > 0 and (nxt_x, nxt_y, k - 1) not in visited:\n",
        "\n",
        "                        visited.add((nxt_x, nxt_y, k - 1))\n",
        "                        queue.append((nxt_x, nxt_y, k - 1, path + 1))\n",
        "                   \n",
        "        return -1"
      ]
    }
  ]
}