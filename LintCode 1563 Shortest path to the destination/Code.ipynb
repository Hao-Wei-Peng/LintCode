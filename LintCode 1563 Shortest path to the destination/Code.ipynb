{
  "nbformat": 4,
  "nbformat_minor": 0,
  "metadata": {
    "colab": {
      "provenance": [],
      "collapsed_sections": []
    },
    "kernelspec": {
      "name": "python3",
      "display_name": "Python 3"
    },
    "language_info": {
      "name": "python"
    }
  },
  "cells": [
    {
      "cell_type": "code",
      "execution_count": null,
      "metadata": {
        "id": "mMOA-ZhSJFOB"
      },
      "outputs": [],
      "source": [
        "from typing import (\n",
        "    List,\n",
        ")\n",
        "\n",
        "class Solution:\n",
        "    \"\"\"\n",
        "    @param target_map: \n",
        "    @return: \n",
        "    \"\"\"\n",
        "    def shortest_path(self, target_map: List[List[int]]) -> int:\n",
        "        # Write your code here\n",
        "\n",
        "        # we have three values in the map\n",
        "        # 0, can pass\n",
        "        # 1, not passable\n",
        "        # 2, target place\n",
        "        Rows, Cols = len(target_map), len(target_map[0])\n",
        "        \n",
        "        # define the start, end position\n",
        "        start = [0, 0]\n",
        "    \n",
        "        Shortest_Path = self.BFS(target_map, start)\n",
        "\n",
        "        return Shortest_Path\n",
        "    \n",
        "\n",
        "    def BFS(self, target_map, start):\n",
        "        \n",
        "        Rows, Cols = len(target_map), len(target_map[0])\n",
        "\n",
        "        Cost = 1\n",
        "\n",
        "        queue = collections.deque([(start, Cost)])\n",
        "        target_map[start[0]][start[1]] = 1\n",
        "\n",
        "        directions = [(0, 1), (0, -1), (1, 0), (-1, 0)]\n",
        "\n",
        "        while queue:\n",
        "            cur_c, Cost = queue.popleft()\n",
        "\n",
        "            for x, y in directions:\n",
        "                nxt_x, nxt_y = cur_c[0] + x, cur_c[1] + y\n",
        "\n",
        "                if 0 <= nxt_x < Rows and 0 <= nxt_y < Cols and (target_map[nxt_x][nxt_y] == 0 or target_map[nxt_x][nxt_y] == 2):\n",
        "\n",
        "                    if target_map[nxt_x][nxt_y] == 2:\n",
        "                        return Cost\n",
        "                    \n",
        "                    target_map[nxt_x][nxt_y] = 1\n",
        "                    queue.append(([nxt_x, nxt_y], Cost + 1))\n",
        "        \n",
        "        return -1\n"
      ]
    }
  ]
}