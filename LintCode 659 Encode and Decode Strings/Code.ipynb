{
  "nbformat": 4,
  "nbformat_minor": 0,
  "metadata": {
    "colab": {
      "provenance": [],
      "collapsed_sections": []
    },
    "kernelspec": {
      "name": "python3",
      "display_name": "Python 3"
    },
    "language_info": {
      "name": "python"
    }
  },
  "cells": [
    {
      "cell_type": "code",
      "execution_count": null,
      "metadata": {
        "id": "mMOA-ZhSJFOB"
      },
      "outputs": [],
      "source": [
        "class Solution:\n",
        "    \"\"\"\n",
        "    @param: strs: a list of strings\n",
        "    @return: encodes a list of strings to a single string.\n",
        "    \"\"\"\n",
        "    def encode(self, strs):\n",
        "        # write your code here\n",
        "        EnCode = []\n",
        "\n",
        "        for word in strs:\n",
        "            for char in word:\n",
        "                if char == \":\":\n",
        "                    EnCode.append(\"::\")\n",
        "                else:\n",
        "                    EnCode.append(char)\n",
        "\n",
        "            EnCode.append(\":;\")\n",
        "\n",
        "        return \"\".join(EnCode)\n",
        "\n",
        "    \"\"\"\n",
        "    @param: str: A string\n",
        "    @return: dcodes a single string to a list of strings\n",
        "    \"\"\"\n",
        "    def decode(self, str):\n",
        "        # write your code here\n",
        "        DeCode = []\n",
        "        Word = []\n",
        "\n",
        "        n = len(str)\n",
        "        ptr = 0\n",
        "\n",
        "        while ptr < n:\n",
        "            cur_char = str[ptr]\n",
        "            nxt_char = str[ptr + 1]\n",
        "\n",
        "            if cur_char == \":\":\n",
        "                if nxt_char == \":\":\n",
        "                    Word.append(cur_char)\n",
        "                    ptr += 2\n",
        "\n",
        "                elif nxt_char == \";\":\n",
        "                    DeCode.append(\"\".join(Word))\n",
        "                    # we need to clear list, therefore, we will store the same elements in word again\n",
        "                    Word.clear()\n",
        "                    ptr += 2\n",
        "\n",
        "            else:\n",
        "                Word.append(cur_char)\n",
        "                ptr += 1\n",
        "\n",
        "        return DeCode\n"
      ]
    }
  ]
}