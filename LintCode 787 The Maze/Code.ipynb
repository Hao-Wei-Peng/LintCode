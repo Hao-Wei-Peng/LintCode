{
  "nbformat": 4,
  "nbformat_minor": 0,
  "metadata": {
    "colab": {
      "provenance": [],
      "collapsed_sections": []
    },
    "kernelspec": {
      "name": "python3",
      "display_name": "Python 3"
    },
    "language_info": {
      "name": "python"
    }
  },
  "cells": [
    {
      "cell_type": "code",
      "execution_count": null,
      "metadata": {
        "id": "mMOA-ZhSJFOB"
      },
      "outputs": [],
      "source": [
        "from typing import (\n",
        "    List,\n",
        ")\n",
        "\n",
        "class Solution:\n",
        "    \"\"\"\n",
        "    @param maze: the maze\n",
        "    @param start: the start\n",
        "    @param destination: the destination\n",
        "    @return: whether the ball could stop at the destination\n",
        "    \"\"\"\n",
        "    def has_path(self, maze: List[List[int]], start: List[int], destination: List[int]) -> bool:\n",
        "        # write your code here\n",
        "\n",
        "        # two values, 1 = wall, 0 = empty space\n",
        "        # start = ball position\n",
        "        Rows = len(maze)\n",
        "        Cols = len(maze[0])\n",
        "\n",
        "        queue = collections.deque([(start[0], start[1])])\n",
        "        visited = set((start[0], start[1]))\n",
        "        directions = [(1, 0), (-1, 0), (0, 1), (0, -1)]\n",
        "\n",
        "        CanReach = self.BFS(maze, queue, visited, directions, destination)\n",
        "\n",
        "        return CanReach\n",
        "\n",
        "    def BFS(self, maze, queue, visited, directions, end):\n",
        "\n",
        "        Rows = len(maze)\n",
        "        Cols = len(maze[0])\n",
        "\n",
        "        while queue:\n",
        "\n",
        "            cur_x, cur_y = queue.popleft()\n",
        "\n",
        "            for x, y in directions:\n",
        "                \n",
        "                nxt_x = cur_x\n",
        "                nxt_y = cur_y\n",
        "\n",
        "                while 0 <= nxt_x + x < Rows and 0 <= nxt_y + y < Cols and maze[nxt_x + x][nxt_y + y] == 0:\n",
        "                    nxt_x = nxt_x + x\n",
        "                    nxt_y = nxt_y + y\n",
        "\n",
        "\n",
        "                if (nxt_x, nxt_y) in visited:\n",
        "                    continue\n",
        "\n",
        "                # destination only exist at boundary position (surrounde by 1)\n",
        "                if nxt_x == end[0] and nxt_y == end[1]:\n",
        "                    return True\n",
        "                \n",
        "                queue.append((nxt_x, nxt_y))\n",
        "                visited.add((nxt_x, nxt_y))\n",
        "             \n",
        "        return False"
      ]
    }
  ]
}