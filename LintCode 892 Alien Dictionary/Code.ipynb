{
  "nbformat": 4,
  "nbformat_minor": 0,
  "metadata": {
    "colab": {
      "provenance": [],
      "collapsed_sections": []
    },
    "kernelspec": {
      "name": "python3",
      "display_name": "Python 3"
    },
    "language_info": {
      "name": "python"
    }
  },
  "cells": [
    {
      "cell_type": "code",
      "execution_count": null,
      "metadata": {
        "id": "mMOA-ZhSJFOB"
      },
      "outputs": [],
      "source": [
        "from typing import (\n",
        "    List,\n",
        ")\n",
        "\n",
        "class Solution:\n",
        "    \"\"\"\n",
        "    @param words: a list of words\n",
        "    @return: a string which is correct order\n",
        "    \"\"\"\n",
        "    def alien_order(self, words: List[str]) -> str:\n",
        "        # Write your code here\n",
        "        Graph = {c: set() for w in words for c in w}\n",
        "        InDegree = {}\n",
        "        n = len(words)\n",
        "\n",
        "        for w in words:\n",
        "            for c in w:\n",
        "                if c in InDegree:\n",
        "                    continue\n",
        "                InDegree[c] = 0\n",
        "\n",
        "        for i in range(0, n - 1):\n",
        "            w1, w2 = words[i], words[i + 1]\n",
        "            minLen = min(len(w1), len(w2))\n",
        "\n",
        "            # first string > second string and same prefix (invalid)\n",
        "            # return empty string, ex: apes, ape\n",
        "            if len(w1) > len(w2) and w1[0 : minLen] == w2[0 : minLen]:\n",
        "                return \"\"\n",
        "            \n",
        "            # ex: \"wrt\", \"wrf\"\n",
        "            for j in range(0, minLen):\n",
        "                # ex: \"t\", \"f\"\n",
        "                if w1[j] != w2[j]:\n",
        "                    InDegree[w2[j]] += 1\n",
        "                    Graph[w1[j]].add(w2[j])\n",
        "                    break\n",
        "        \n",
        "        # BFS + topological\n",
        "        Queue = collections.deque()\n",
        "\n",
        "        for char in InDegree:\n",
        "            if InDegree[char] == 0:\n",
        "                Queue.append(char)\n",
        "\n",
        "        ans = []\n",
        "\n",
        "        while Queue:\n",
        "            char = Queue.popleft()\n",
        "            ans.append(char)\n",
        "\n",
        "            for nei in Graph[char]:\n",
        "                InDegree[nei] -= 1\n",
        "\n",
        "                if InDegree[nei] == 0:\n",
        "                    Queue.append(nei)\n",
        "\n",
        "        if len(ans) < len(InDegree):\n",
        "            return \"\"\n",
        "        \n",
        "        return \"\".join(ans)\n"
      ]
    }
  ]
}