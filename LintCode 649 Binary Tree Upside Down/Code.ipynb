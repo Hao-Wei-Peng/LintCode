{
  "nbformat": 4,
  "nbformat_minor": 0,
  "metadata": {
    "colab": {
      "provenance": [],
      "collapsed_sections": []
    },
    "kernelspec": {
      "name": "python3",
      "display_name": "Python 3"
    },
    "language_info": {
      "name": "python"
    }
  },
  "cells": [
    {
      "cell_type": "code",
      "execution_count": null,
      "metadata": {
        "id": "mMOA-ZhSJFOB"
      },
      "outputs": [],
      "source": [
        "from lintcode import (\n",
        "    TreeNode,\n",
        ")\n",
        "\n",
        "\"\"\"\n",
        "Definition of TreeNode:\n",
        "class TreeNode:\n",
        "    def __init__(self, val):\n",
        "        self.val = val\n",
        "        self.left, self.right = None, None\n",
        "\"\"\"\n",
        "\n",
        "class Solution:\n",
        "    \"\"\"\n",
        "    @param root: the root of binary tree\n",
        "    @return: new root\n",
        "    \"\"\"\n",
        "    def upside_down_binary_tree(self, root: TreeNode) -> TreeNode:\n",
        "        # write your code here\n",
        "\n",
        "        # base case\n",
        "        if not root:\n",
        "            return root\n",
        "\n",
        "        # original right nodes turn into leaf left nodes\n",
        "        # inorder traversal\n",
        "        stack = []\n",
        "        cur = root\n",
        "\n",
        "        while cur:\n",
        "            stack.append(cur)\n",
        "            cur = cur.left\n",
        "        \n",
        "        new_root = stack.pop()\n",
        "\n",
        "        while stack:\n",
        "            node = stack.pop()\n",
        "            node.left.left = node.right\n",
        "            node.left.right = node\n",
        "            node.left = None\n",
        "            node.right = None\n",
        "        \n",
        "        return new_root\n"
      ]
    }
  ]
}