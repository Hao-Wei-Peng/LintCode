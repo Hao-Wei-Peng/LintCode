{
  "nbformat": 4,
  "nbformat_minor": 0,
  "metadata": {
    "colab": {
      "provenance": [],
      "collapsed_sections": []
    },
    "kernelspec": {
      "name": "python3",
      "display_name": "Python 3"
    },
    "language_info": {
      "name": "python"
    }
  },
  "cells": [
    {
      "cell_type": "code",
      "execution_count": null,
      "metadata": {
        "id": "mMOA-ZhSJFOB"
      },
      "outputs": [],
      "source": [
        "class Vector2D(object):\n",
        "\n",
        "    # @param vec2d {List[List[int]]}\n",
        "    def __init__(self, vec2d):\n",
        "        # Initialize your data structure here\n",
        "        self.Vector2D = vec2d\n",
        "        self.STACK = []\n",
        "        LenV = len(self.Vector2D)\n",
        "\n",
        "        # stack\n",
        "        # [[1,2],[3],[4,5,6]] -> [[4,5,6],[3],[1,2]]\n",
        "        for idx in range(LenV - 1, -1, -1):\n",
        "            self.STACK.append(self.Vector2D[idx])\n",
        "\n",
        "    # @return {int} a next element\n",
        "    def next(self):\n",
        "        # Write your code here\n",
        "        return self.STACK.pop()\n",
        "        \n",
        "\n",
        "    # @return {boolean} true if it has next element\n",
        "    # or false\n",
        "    def hasNext(self):\n",
        "        # Write your code here\n",
        "        \n",
        "        while self.STACK:\n",
        "            \n",
        "            cur = self.STACK[-1]\n",
        "\n",
        "            if isinstance(cur, int):\n",
        "                return True\n",
        "\n",
        "            CurList = self.STACK.pop()\n",
        "            LenC = len(CurList)\n",
        "\n",
        "            for idx in range(LenC - 1, -1, -1):\n",
        "                element = CurList[idx]\n",
        "                self.STACK.append(element)\n",
        "\n",
        "        return False\n",
        "\n",
        "# Your Vector2D object will be instantiated and called as such:\n",
        "# i, v = Vector2D(vec2d), []\n",
        "# while i.hasNext(): v.append(i.next())"
      ]
    }
  ]
}