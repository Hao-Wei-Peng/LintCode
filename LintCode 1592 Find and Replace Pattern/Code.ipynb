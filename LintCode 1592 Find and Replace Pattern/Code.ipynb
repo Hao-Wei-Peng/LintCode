{
  "nbformat": 4,
  "nbformat_minor": 0,
  "metadata": {
    "colab": {
      "provenance": [],
      "collapsed_sections": []
    },
    "kernelspec": {
      "name": "python3",
      "display_name": "Python 3"
    },
    "language_info": {
      "name": "python"
    }
  },
  "cells": [
    {
      "cell_type": "code",
      "execution_count": null,
      "metadata": {
        "id": "mMOA-ZhSJFOB"
      },
      "outputs": [],
      "source": [
        "from typing import (\n",
        "    List,\n",
        ")\n",
        "\n",
        "class Solution:\n",
        "    \"\"\"\n",
        "    @param words: word list\n",
        "    @param pattern: pattern string\n",
        "    @return: list of matching words\n",
        "             we will sort your return value in output\n",
        "    \"\"\"\n",
        "    def find_and_replace_pattern(self, words: List[str], pattern: str) -> List[str]:\n",
        "        # Write your code here.\n",
        "        if not words or not pattern:\n",
        "            return []\n",
        "        \n",
        "        ans = []\n",
        "\n",
        "        for word in words:\n",
        "            if self.match_mapping(word, pattern):\n",
        "                ans.append(word)\n",
        "\n",
        "        return ans\n",
        "\n",
        "    def match_mapping(self, word, pattern):\n",
        "\n",
        "        word_to_pat, pat_to_word = {}, {}\n",
        "        LenW = len(word)\n",
        "        LenP = len(pattern)\n",
        "\n",
        "        # two string do not have same length\n",
        "        if LenW != LenP:\n",
        "            return False\n",
        "\n",
        "        for i in range(0, LenW):\n",
        "            w_char = word[i]\n",
        "            p_char = pattern[i]\n",
        "\n",
        "            if (w_char in word_to_pat and word_to_pat[w_char] != p_char) or (p_char in pat_to_word and pat_to_word[p_char] != w_char):\n",
        "                return False\n",
        "\n",
        "            word_to_pat[w_char] = p_char\n",
        "            pat_to_word[p_char] = w_char\n",
        "\n",
        "        return True\n",
        "\n"
      ]
    }
  ]
}