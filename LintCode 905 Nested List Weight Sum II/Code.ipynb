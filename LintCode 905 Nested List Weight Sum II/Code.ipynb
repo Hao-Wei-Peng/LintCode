{
  "nbformat": 4,
  "nbformat_minor": 0,
  "metadata": {
    "colab": {
      "provenance": [],
      "collapsed_sections": []
    },
    "kernelspec": {
      "name": "python3",
      "display_name": "Python 3"
    },
    "language_info": {
      "name": "python"
    }
  },
  "cells": [
    {
      "cell_type": "code",
      "execution_count": null,
      "metadata": {
        "id": "mMOA-ZhSJFOB"
      },
      "outputs": [],
      "source": [
        "class Solution:\n",
        "    \"\"\"\n",
        "    @param nestedList: a list of NestedInteger\n",
        "    @return: the sum\n",
        "    \"\"\"\n",
        "\n",
        "    def depthSumInverse(self, nestedList):\n",
        "        # Write your code here.\n",
        "        # Time Complexity will be O(n)\n",
        "        WeiSums = self.DFS(nestedList, 0)\n",
        "        return WeiSums\n",
        "\n",
        "\n",
        "    def DFS(self, List, Sum):\n",
        "\n",
        "        CurList = []\n",
        "\n",
        "        for element in List:\n",
        "            if element.isInteger():\n",
        "                Sum += element.getInteger() \n",
        "            \n",
        "            else:\n",
        "                CurList += element.getList()\n",
        "        \n",
        "        # newlist will be calculated by current list + previous list\n",
        "        if CurList:\n",
        "            Sum += self.DFS(CurList, Sum)\n",
        "        \n",
        "        return Sum"
      ]
    }
  ]
}