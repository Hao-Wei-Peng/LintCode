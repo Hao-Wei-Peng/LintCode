{
  "nbformat": 4,
  "nbformat_minor": 0,
  "metadata": {
    "colab": {
      "provenance": [],
      "collapsed_sections": []
    },
    "kernelspec": {
      "name": "python3",
      "display_name": "Python 3"
    },
    "language_info": {
      "name": "python"
    }
  },
  "cells": [
    {
      "cell_type": "code",
      "execution_count": null,
      "metadata": {
        "id": "mMOA-ZhSJFOB"
      },
      "outputs": [],
      "source": [
        "from typing import (\n",
        "    List,\n",
        ")\n",
        "\n",
        "class Solution:\n",
        "    \"\"\"\n",
        "    @param rooms: m x n 2D grid\n",
        "    @return: nothing\n",
        "    \"\"\"\n",
        "    def walls_and_gates(self, rooms: List[List[int]]):\n",
        "        # write your code here\n",
        "\n",
        "        # three possible values\n",
        "        # -1, a wall or an obstacle\n",
        "        # 0, a gate (end position)\n",
        "        # INF, empty room (start position)\n",
        "\n",
        "        # base case\n",
        "        if not rooms:\n",
        "            return None\n",
        "        \n",
        "        # we can use bfs method to deal with this problem\n",
        "        # Time Complexity will be O(m*n)\n",
        "        # Space Complexity will be O(m*n)\n",
        "        Rows = len(rooms)\n",
        "        Cols = len(rooms[0])\n",
        "\n",
        "        queue = collections.deque()\n",
        "        visited = set()\n",
        "        # up, down, left, right\n",
        "        direction = [(0, 1), (1, 0), (-1, 0), (0, -1)]\n",
        "\n",
        "        for r in range(0, Rows):\n",
        "            for c in range(0, Cols):\n",
        "                # we can start from the value 0\n",
        "                if rooms[r][c] == 0:\n",
        "                    visited.add((r, c))\n",
        "                    queue.append((r, c, 0))\n",
        "        \n",
        "\n",
        "        while queue:\n",
        "            cur_r, cur_c, dist = queue.popleft()\n",
        "            rooms[cur_r][cur_c] = dist\n",
        "\n",
        "            for x, y in direction:\n",
        "                nxt_r = cur_r + x\n",
        "                nxt_c = cur_c + y\n",
        "\n",
        "                if 0 <= nxt_r < Rows and 0 <= nxt_c < Cols and rooms[nxt_r][nxt_c] == 2147483647 and (nxt_r, nxt_c) not in visited:\n",
        "                    visited.add((nxt_r, nxt_c))\n",
        "                    queue.append((nxt_r, nxt_c, dist + 1))\n",
        "        \n",
        "        return rooms\n"
      ]
    }
  ]
}