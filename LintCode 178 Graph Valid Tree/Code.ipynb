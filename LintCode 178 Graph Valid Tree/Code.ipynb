{
  "nbformat": 4,
  "nbformat_minor": 0,
  "metadata": {
    "colab": {
      "provenance": [],
      "collapsed_sections": []
    },
    "kernelspec": {
      "name": "python3",
      "display_name": "Python 3"
    },
    "language_info": {
      "name": "python"
    }
  },
  "cells": [
    {
      "cell_type": "code",
      "execution_count": null,
      "metadata": {
        "id": "mMOA-ZhSJFOB"
      },
      "outputs": [],
      "source": [
        "from typing import (\n",
        "    List,\n",
        ")\n",
        "\n",
        "class Solution:\n",
        "    \"\"\"\n",
        "    @param n: An integer\n",
        "    @param edges: a list of undirected edges\n",
        "    @return: true if it's a valid tree, or false\n",
        "    \"\"\"\n",
        "    def valid_tree(self, n: int, edges: List[List[int]]) -> bool:\n",
        "        # write your code here\n",
        "        \n",
        "        # we can use bfs method to deal with this problem\n",
        "        # n nodes, labeled from 0 ~ n - 1\n",
        "\n",
        "        # base case\n",
        "        if len(edges) != n - 1:\n",
        "            return False\n",
        "\n",
        "        if not edges:\n",
        "            return True\n",
        "\n",
        "        # construct tree, we do not have duplicate edge in the graph\n",
        "        LabelList = collections.defaultdict(list)\n",
        "\n",
        "        for lab1, lab2 in edges:\n",
        "            LabelList[lab1].append(lab2)\n",
        "            LabelList[lab2].append(lab1)\n",
        "        \n",
        "        queue = collections.deque()\n",
        "\n",
        "        # we will put label with degree == 1\n",
        "        for cur_lab, val in LabelList.items():\n",
        "            if len(val) == 1:\n",
        "                queue.append(cur_lab)\n",
        "        \n",
        "        visit = 0\n",
        "        \n",
        "        while queue:\n",
        "            \n",
        "            LenQ = len(queue)\n",
        "\n",
        "            for i in range(0, LenQ):\n",
        "                cur_label = queue.popleft()\n",
        "                visit = visit + 1\n",
        "\n",
        "                for nei in LabelList[cur_label]:\n",
        "                    LabelList[nei].remove(cur_label)\n",
        "\n",
        "                    if len(LabelList[nei]) == 1:\n",
        "                        queue.append(nei)\n",
        "\n",
        "        return visit == n\n"
      ]
    }
  ]
}