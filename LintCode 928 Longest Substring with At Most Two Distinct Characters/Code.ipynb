{
  "nbformat": 4,
  "nbformat_minor": 0,
  "metadata": {
    "colab": {
      "provenance": [],
      "collapsed_sections": []
    },
    "kernelspec": {
      "name": "python3",
      "display_name": "Python 3"
    },
    "language_info": {
      "name": "python"
    }
  },
  "cells": [
    {
      "cell_type": "code",
      "execution_count": null,
      "metadata": {
        "id": "mMOA-ZhSJFOB"
      },
      "outputs": [],
      "source": [
        "class Solution:\n",
        "    \"\"\"\n",
        "    @param s: a string\n",
        "    @return: the length of the longest substring T that contains at most 2 distinct characters\n",
        "    \"\"\"\n",
        "    def length_of_longest_substring_two_distinct(self, s: str) -> int:\n",
        "        # Write your code here\n",
        "\n",
        "        # base case\n",
        "        if not s:\n",
        "            return 0\n",
        "            \n",
        "        # we can use slide windows to deal with this problem\n",
        "        # Time Complexity will be O(n)\n",
        "        # Space Complexity will be O(n)\n",
        "        \n",
        "        char_dict = collections.defaultdict(int)\n",
        "        n = len(s)\n",
        "        MaxLen = float(\"-inf\")\n",
        "        left, right = 0, 0\n",
        "        count = 0\n",
        "\n",
        "        while right < n:\n",
        "\n",
        "            char = s[right]\n",
        "\n",
        "            # if frequency of current character is 0\n",
        "            # new character\n",
        "            if char_dict[char] == 0:\n",
        "                count += 1\n",
        "            \n",
        "            char_dict[char] += 1\n",
        "\n",
        "            # todo region\n",
        "            while count > 2:\n",
        "\n",
        "                prechar = s[left]\n",
        "\n",
        "                # if frequency of current character is 1\n",
        "                # remove character\n",
        "                if char_dict[prechar] == 1:\n",
        "                    count -= 1\n",
        "                \n",
        "                char_dict[prechar] -= 1\n",
        "\n",
        "                left += 1\n",
        "\n",
        "            MaxLen = max(MaxLen, right - left + 1)\n",
        "            right += 1\n",
        "\n",
        "        return MaxLen\n"
      ]
    }
  ]
}