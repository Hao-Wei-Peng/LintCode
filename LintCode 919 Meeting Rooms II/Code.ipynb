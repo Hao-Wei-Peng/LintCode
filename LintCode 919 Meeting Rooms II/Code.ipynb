{
  "nbformat": 4,
  "nbformat_minor": 0,
  "metadata": {
    "colab": {
      "provenance": [],
      "collapsed_sections": []
    },
    "kernelspec": {
      "name": "python3",
      "display_name": "Python 3"
    },
    "language_info": {
      "name": "python"
    }
  },
  "cells": [
    {
      "cell_type": "code",
      "execution_count": null,
      "metadata": {
        "id": "mMOA-ZhSJFOB"
      },
      "outputs": [],
      "source": [
        "from typing import (\n",
        "    List,\n",
        ")\n",
        "from lintcode import (\n",
        "    Interval,\n",
        ")\n",
        "\n",
        "\"\"\"\n",
        "Definition of Interval:\n",
        "class Interval(object):\n",
        "    def __init__(self, start, end):\n",
        "        self.start = start\n",
        "        self.end = end\n",
        "\"\"\"\n",
        "\n",
        "class Solution:\n",
        "    \"\"\"\n",
        "    @param intervals: an array of meeting time intervals\n",
        "    @return: the minimum number of conference rooms required\n",
        "    \"\"\"\n",
        "    def min_meeting_rooms(self, intervals: List[Interval]) -> int:\n",
        "        \n",
        "        # Write your code here\n",
        "        n = len(intervals)\n",
        "        start = sorted([s.start for s in intervals])\n",
        "        end = sorted([e.end for e in intervals])\n",
        "\n",
        "        room = 0\n",
        "        s, e = 0, 0\n",
        "        ans = 0\n",
        "\n",
        "        while s < n:\n",
        "            if start[s] < end[e]:\n",
        "                room = room + 1\n",
        "                s = s + 1\n",
        "            \n",
        "            else:\n",
        "                room = room - 1\n",
        "                e = e + 1\n",
        "            \n",
        "            ans = max(ans, room)\n",
        "        \n",
        "        return ans"
      ]
    }
  ]
}