{
  "nbformat": 4,
  "nbformat_minor": 0,
  "metadata": {
    "colab": {
      "provenance": [],
      "collapsed_sections": []
    },
    "kernelspec": {
      "name": "python3",
      "display_name": "Python 3"
    },
    "language_info": {
      "name": "python"
    }
  },
  "cells": [
    {
      "cell_type": "code",
      "execution_count": null,
      "metadata": {
        "id": "mMOA-ZhSJFOB",
        "colab": {
          "base_uri": "https://localhost:8080/"
        },
        "outputId": "8e6b5ada-b783-4a92-ab64-13c5cb4b234e"
      },
      "outputs": [
        {
          "output_type": "stream",
          "name": "stdout",
          "text": [
            "[3, 4, 2, 1]\n"
          ]
        }
      ],
      "source": [
        "from typing import (\n",
        "    List,\n",
        ")\n",
        "\n",
        "class Solution:\n",
        "    \"\"\"\n",
        "    @param nums: an array\n",
        "    @param k: a target value\n",
        "    @return: the maximum length of a subarray that sums to k\n",
        "    \"\"\"\n",
        "    def max_sub_array_len(self, nums: List[int], k: int) -> int:\n",
        "        # Write your code here\n",
        "        # subarray = continuous array\n",
        "        n = len(nums)\n",
        "\n",
        "        # edge case\n",
        "        # we can discuss whether k will be None or not\n",
        "        if not nums:\n",
        "            return 0\n",
        "\n",
        "        # Time Complexity will be O(n)\n",
        "        # Space Complexity will be O(n)\n",
        "\n",
        "        # we can use prefix method to deal with this problem\n",
        "        #     nums   = [0, 1, -1, 5, -2, 3]\n",
        "        # prefixSums = [0, 1,  0, 5,  3, 6]\n",
        "        #                   i      j \n",
        "        # prefix[j] - prefix[i] = k\n",
        "\n",
        "        # prefix[i] = prefix[j] - k (j > i)\n",
        "\n",
        "        index_mp = collections.defaultdict(int)\n",
        "        index_mp[0] = -1\n",
        "        prefixSums = 0\n",
        "        MaxSize = 0\n",
        "\n",
        "        for idx in range(0, n):\n",
        "            prefixSums += nums[idx]\n",
        "\n",
        "            if prefixSums - k in index_mp:\n",
        "\n",
        "                before = index_mp[prefixSums - k]\n",
        "                current = idx\n",
        "\n",
        "                MaxSize = max(MaxSize, current - before)\n",
        "            \n",
        "            # if there exist same key in dictionary, we shouldn't update it\n",
        "            if prefixSums not in index_mp:\n",
        "                index_mp[prefixSums] = idx\n",
        "\n",
        "        return MaxSize"
      ]
    }
  ]
}